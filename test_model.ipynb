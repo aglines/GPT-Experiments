{
 "cells": [
  {
   "attachments": {},
   "cell_type": "markdown",
   "metadata": {},
   "source": [
    "Test different model performance on a Summarization task:"
   ]
  },
  {
   "cell_type": "code",
   "execution_count": 5,
   "metadata": {},
   "outputs": [
    {
     "name": "stdout",
     "output_type": "stream",
     "text": [
      "DaVinci:  The Big Bang was an explosion creating matter and energy, forming ATOMS like H, C, and O. These combined to make WATER (H2O) - essential for life. With its liquid oceans just right, EARTH was born to host life.\n",
      "Ada:  - All stories start at the beginning, the Big Bang - a giant explosion which gave birth to all the matter and energy that would nonetheless become us.\n",
      "- Tiny ATOMS cooked inside burning hot stars to form all the chemical elements, like hydrogen (H), carbon (C), and oxygen (O).\n",
      "- H and O combine to form the molecule WATER (H2O), the most essential part of life's chemistry.\n",
      "- Our planet EARTH was born at just the right distance from our star (the Sun) for water to stick to the Earth's surface.\n",
      "- Not too hot, not too cold, Earth's liquid water oceans are the reason life grew here.\n"
     ]
    }
   ],
   "source": [
    "# Model: text-davinci-003, text-ada-001\n",
    "import openai\n",
    "from project_secrets import * \n",
    "import os\n",
    "\n",
    "openai.api_key = OPENAI_API_KEY\n",
    "\n",
    "def get_response(prompt):\n",
    "       response_davinci = openai.Completion.create(model=\"text-davinci-003\", prompt=prompt, max_tokens=256)\n",
    "       response_ada = openai.Completion.create(model=\"text-ada-001\", prompt=prompt, max_tokens=256)\n",
    "       return response_davinci, response_ada\n",
    "\n",
    "prompt_prefix = \"Reduce the following by about half the word count: \"\n",
    "filename = \"story.txt\"\n",
    "with open(filename) as f:\n",
    "    prompt_body = f.read()\n",
    "\n",
    "prompt = prompt_prefix + prompt_body\n",
    "response_davinci, response_ada = get_response(prompt)\n",
    "print(\"DaVinci: \", response_davinci.choices[0].text.strip())\n",
    "print(\"Ada: \", response_ada.choices[0].text.strip())"
   ]
  },
  {
   "attachments": {},
   "cell_type": "markdown",
   "metadata": {},
   "source": [
    "Ada model gives strange results, so switch models to text-davinci-003 and text-davinci-001:"
   ]
  },
  {
   "cell_type": "code",
   "execution_count": 6,
   "metadata": {},
   "outputs": [
    {
     "name": "stdout",
     "output_type": "stream",
     "text": [
      "DaVinci 003:  The Big Bang started it all, creating ATOMS that formed all elements, such as H, C, and O. Water (H2O) followed and Earth was born in the perfect spot for it to be liquid. This liquid water helped life flourish.\n",
      "DaVinci 001:  All stories start at the beginning- the Big Bang. A giant explosion which gave birth to all the matter and energy that would someday become us. Tiny atoms cooked inside burning hot stars to form all the chemical elements, like hydrogen, carbon, and oxygen. Hydrogen and oxygen combine to form the molecule water, the most essential part of life's chemistry. Our planet Earth was born at just the right distance from our star (the sun) for water to stay liquid. Not too hot, not too cold, Earth's liquid water oceans are the reason life grew here.\n"
     ]
    }
   ],
   "source": [
    "def get_resp_dv003(prompt):\n",
    "    response_davinci_003 = openai.Completion.create(model=\"text-davinci-003\", prompt=prompt, max_tokens=256)\n",
    "    return response_davinci_003\n",
    "\n",
    "def get_resp_dv001(prompt):\n",
    "    response_davinci_001 = openai.Completion.create(model=\"text-davinci-001\", prompt=prompt, max_tokens=256)\n",
    "    return response_davinci_001\n",
    "\n",
    "response_davinci_003 = get_resp_dv003(prompt).choices[0].text.strip()\n",
    "print(\"DaVinci 003: \", response_davinci_003)\n",
    "\n",
    "response_davinci_001 = get_resp_dv001(prompt).choices[0].text.strip()\n",
    "print(\"DaVinci 001: \", response_davinci_001)"
   ]
  },
  {
   "attachments": {},
   "cell_type": "markdown",
   "metadata": {},
   "source": [
    "DaVinci output looks \n",
    "Test to make sure each model successfully cut the wordcount by about half:"
   ]
  },
  {
   "cell_type": "code",
   "execution_count": 9,
   "metadata": {},
   "outputs": [
    {
     "name": "stdout",
     "output_type": "stream",
     "text": [
      "Wordcount of original text:  84\n",
      "Wordcount davinci-003:  38\n",
      "Wordcount davinci-001:  79\n"
     ]
    }
   ],
   "source": [
    "from collections import Counter\n",
    "\n",
    "wordCount_body = Counter(prompt_body.split())\n",
    "print(\"Wordcount of original text: \", len(wordCount_body))\n",
    "\n",
    "wordCount_003 = Counter(response_davinci_003.split())\n",
    "wordCount_001 = Counter(response_davinci_001.split())\n",
    "print(\"Wordcount davinci-003: \", len(wordCount_003))\n",
    "print(\"Wordcount davinci-001: \", len(wordCount_001))"
   ]
  },
  {
   "attachments": {},
   "cell_type": "markdown",
   "metadata": {},
   "source": [
    "Davinci-001 fails a wordcount test.  \n",
    "Final experiment, using only DaVinci-003 : change output for different ages"
   ]
  },
  {
   "cell_type": "code",
   "execution_count": 10,
   "metadata": {},
   "outputs": [
    {
     "name": "stdout",
     "output_type": "stream",
     "text": [
      "Child student:  Stories have to start somewhere, like the Big Bang! This was a giant explosion which created all the matter and energy that later formed us. If you look really close, everything is made up of tiny atoms! That includes hydrogen (H), carbon (C), and oxygen (O). When H and O come together, they create WATER (H2O), which is really important for living things. Our planet EARTH was the perfect distance from the Sun, which kept its water liquid. That's why life was able to grow!\n",
      "Uni student:  All stories begin at the same place, the Big Bang - a colossal explosion that created the matter and energy that would soon become us. Compacted atoms inside sweltering stars formed chemical elements like hydrogen (H), carbon (C), and oxygen (O). When H and O united, they formed WATER (H2O), which is essential to life. Our planet EARTH was situated the perfect distance from the Sun, meaning the liquid ocean wouldn't be too hot or too cold - these temperate waters are what allowed life to develop here.\n"
     ]
    }
   ],
   "source": [
    "def get_resp_studentage(prompt):\n",
    "       response_age_altered = openai.Completion.create(model=\"text-davinci-003\", prompt=prompt, max_tokens=128)\n",
    "       return response_age_altered.choices[0].text.strip()\n",
    "\n",
    "prompt_child = \"Change the following for a primary school student audience: \" + prompt_body\n",
    "prompt_uni = \"Change the following for a university student audience: \" + prompt_body\n",
    "\n",
    "print(\"Child student: \", get_resp_studentage(prompt_child))\n",
    "print(\"Uni student: \", get_resp_studentage(prompt_uni))\n"
   ]
  }
 ],
 "metadata": {
  "kernelspec": {
   "display_name": "Python 3",
   "language": "python",
   "name": "python3"
  },
  "language_info": {
   "codemirror_mode": {
    "name": "ipython",
    "version": 3
   },
   "file_extension": ".py",
   "mimetype": "text/x-python",
   "name": "python",
   "nbconvert_exporter": "python",
   "pygments_lexer": "ipython3",
   "version": "3.10.10"
  },
  "orig_nbformat": 4
 },
 "nbformat": 4,
 "nbformat_minor": 2
}
