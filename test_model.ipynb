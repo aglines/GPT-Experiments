{
 "cells": [
  {
   "attachments": {},
   "cell_type": "markdown",
   "metadata": {},
   "source": [
    "Test different model performance on a Summarization task:"
   ]
  },
  {
   "cell_type": "code",
   "execution_count": 11,
   "metadata": {},
   "outputs": [
    {
     "name": "stdout",
     "output_type": "stream",
     "text": [
      "DaVinci:  The Big Bang gave birth to atoms, which formed all the elements, including H2O - water. Earth was in the Goldilocks zone from the Sun, allowing its liquid oceans to support life.\n",
      "\n",
      "Ada:  The following story starts at the beginning, the Big Bang - a giant explosion which gave birth to all the matter and energy that wouldCONTINUE to be us. Tiny ATOMS cooked inside heated stars to form all the chemical elements, like hydrogen (H), carbon (C), and oxygen (O). What might have started out as a giant explosion? It's too early to say, but tiny ATOMS cooked inside burning hot stars to form all the chemical elements, like hydrogen (H), carbon (C), and oxygen (O).\n"
     ]
    }
   ],
   "source": [
    "# Model: text-davinci-003, text-ada-001\n",
    "import openai\n",
    "from project_secrets import * \n",
    "import os\n",
    "\n",
    "openai.api_key = OPENAI_API_KEY\n",
    "\n",
    "def get_response(prompt):\n",
    "       response_davinci = openai.Completion.create(model=\"text-davinci-003\", prompt=prompt, max_tokens=256)\n",
    "       response_ada = openai.Completion.create(model=\"text-ada-001\", prompt=prompt, max_tokens=256)\n",
    "       return response_davinci, response_ada\n",
    "\n",
    "prompt_prefix = \"Reduce the following by about half the word count: \"\n",
    "filename = \"story.txt\"\n",
    "with open(filename) as f:\n",
    "    prompt_body = f.read()\n",
    "\n",
    "prompt = prompt_prefix + prompt_body\n",
    "response_davinci, response_ada = get_response(prompt)\n",
    "print(\"DaVinci: \", response_davinci.choices[0].text.strip())\n",
    "print(\"\\nAda: \", response_ada.choices[0].text.strip())"
   ]
  },
  {
   "attachments": {},
   "cell_type": "markdown",
   "metadata": {},
   "source": [
    "Ada model gives strange results, so switch models to text-davinci-003 and text-davinci-001:"
   ]
  },
  {
   "cell_type": "code",
   "execution_count": 12,
   "metadata": {},
   "outputs": [
    {
     "name": "stdout",
     "output_type": "stream",
     "text": [
      "DaVinci 003:  The Big Bang was a cosmic explosion that created all matter and energy, including atoms like H, C, and O which combined to form the molecule H2O - water. Earth formed near the Sun, just the right temperature to keep its water liquid, the key to life.\n",
      "\n",
      "DaVinci 001:  All stories start at the beginning, the beginning of time - a giant explosion which gave birth to all the matter and energy that would someday become us. Tiny ATOMS cooked inside burning hot stars to form all the chemical elements, like hydrogen (H), carbon (C), and oxygen (O).  H and O combine to form the molecule WATER (H2O), the most essential part of life's chemistry.  Our planet EARTH was born at just the right distance from our star (the Sun) for water to stay liquid.  Not too hot, not too cold, Earthâ€™s liquid water oceans are the reason life grew here.\n"
     ]
    }
   ],
   "source": [
    "def get_resp_dv003(prompt):\n",
    "    response_davinci_003 = openai.Completion.create(model=\"text-davinci-003\", prompt=prompt, max_tokens=256)\n",
    "    return response_davinci_003\n",
    "\n",
    "def get_resp_dv001(prompt):\n",
    "    response_davinci_001 = openai.Completion.create(model=\"text-davinci-001\", prompt=prompt, max_tokens=256)\n",
    "    return response_davinci_001\n",
    "\n",
    "response_davinci_003 = get_resp_dv003(prompt).choices[0].text.strip()\n",
    "print(\"DaVinci 003: \", response_davinci_003)\n",
    "\n",
    "response_davinci_001 = get_resp_dv001(prompt).choices[0].text.strip()\n",
    "print(\"\\nDaVinci 001: \", response_davinci_001)"
   ]
  },
  {
   "attachments": {},
   "cell_type": "markdown",
   "metadata": {},
   "source": [
    "Test to make sure each model successfully cut the wordcount by about half:"
   ]
  },
  {
   "cell_type": "code",
   "execution_count": 13,
   "metadata": {},
   "outputs": [
    {
     "name": "stdout",
     "output_type": "stream",
     "text": [
      "Wordcount of original text:  84\n",
      "Wordcount davinci-003:  41\n",
      "Wordcount davinci-001:  84\n"
     ]
    }
   ],
   "source": [
    "from collections import Counter\n",
    "\n",
    "wordCount_body = Counter(prompt_body.split())\n",
    "print(\"Wordcount of original text: \", len(wordCount_body))\n",
    "\n",
    "wordCount_003 = Counter(response_davinci_003.split())\n",
    "wordCount_001 = Counter(response_davinci_001.split())\n",
    "print(\"Wordcount davinci-003: \", len(wordCount_003))\n",
    "print(\"Wordcount davinci-001: \", len(wordCount_001))"
   ]
  },
  {
   "attachments": {},
   "cell_type": "markdown",
   "metadata": {},
   "source": [
    "Davinci-001 fails a wordcount test.  \n",
    "Final experiment, using only DaVinci-003 : change output for different ages"
   ]
  },
  {
   "cell_type": "code",
   "execution_count": 14,
   "metadata": {},
   "outputs": [
    {
     "name": "stdout",
     "output_type": "stream",
     "text": [
      "Child student:  It all started with a Big Bang - a giant explosion that created all the matter and energy that would turn into us! Scientists think tiny atoms combined inside hot stars to make all the chemical elements like hydrogen (H), carbon (C), and oxygen (O). When hydrogen and oxygen join, they make the molecule WATER (H2O), a really important part of life's chemistry. Earth was just the perfect distance from our star (the Sun) so that water didn't get too hot or too cold, but just stayed liquid. Having liquid water is what made life possible on our planet!\n",
      "\n",
      "Uni student:  All stories start at the beginning, the Big Bang - a giant explosion which gave birth to the matter and energy that exists today. Tiny ATOMS cooked inside burning hot stars formed all the elements crucial to life, such as hydrogen (H), carbon (C) and oxygen (O). H and O combined to form the molecule WATER (H2O), a fundamental component of every living thing. Our planet EARTH was situated in the perfect distance from our star (the Sun) where liquid water could remain at a stable temperature. Not too hot, not too cold, Earth's oceans were key in the development of\n"
     ]
    }
   ],
   "source": [
    "def get_resp_studentage(prompt):\n",
    "       response_age_altered = openai.Completion.create(model=\"text-davinci-003\", prompt=prompt, max_tokens=128)\n",
    "       return response_age_altered.choices[0].text.strip()\n",
    "\n",
    "prompt_child = \"Change the following for a primary school student audience: \" + prompt_body\n",
    "prompt_uni = \"Change the following for a university student audience: \" + prompt_body\n",
    "\n",
    "print(\"Child student: \", get_resp_studentage(prompt_child))\n",
    "print(\"\\nUni student: \", get_resp_studentage(prompt_uni))\n"
   ]
  }
 ],
 "metadata": {
  "kernelspec": {
   "display_name": "Python 3",
   "language": "python",
   "name": "python3"
  },
  "language_info": {
   "codemirror_mode": {
    "name": "ipython",
    "version": 3
   },
   "file_extension": ".py",
   "mimetype": "text/x-python",
   "name": "python",
   "nbconvert_exporter": "python",
   "pygments_lexer": "ipython3",
   "version": "3.10.10"
  },
  "orig_nbformat": 4
 },
 "nbformat": 4,
 "nbformat_minor": 2
}
